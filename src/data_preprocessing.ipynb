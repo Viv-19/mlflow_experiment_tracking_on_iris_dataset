{
 "cells": [
  {
   "cell_type": "code",
   "execution_count": null,
   "id": "88eaf0a7",
   "metadata": {},
   "outputs": [],
   "source": [
    "# Import libraries\n",
    "import pandas as pd\n",
    "import os"
   ]
  },
  {
   "cell_type": "code",
   "execution_count": null,
   "id": "493e6693",
   "metadata": {},
   "outputs": [],
   "source": [
    "# Load the dataset\n",
    "data_path = \"../data/iris_data.csv\"\n",
    "if os.path.exists(data_path):\n",
    "    df = pd.read_csv(data_path)\n",
    "else:\n",
    "    raise FileNotFoundError(\"Data file not found. Run data_ingestion.ipynb first.\")"
   ]
  },
  {
   "cell_type": "code",
   "execution_count": null,
   "id": "657d9fd0",
   "metadata": {},
   "outputs": [
    {
     "name": "stdout",
     "output_type": "stream",
     "text": [
      "Missing values:\n",
      " sepal length (cm)    0\n",
      "sepal width (cm)     0\n",
      "petal length (cm)    0\n",
      "petal width (cm)     0\n",
      "target               0\n",
      "target_name          0\n",
      "dtype: int64\n"
     ]
    }
   ],
   "source": [
    "# Check for missing values\n",
    "print(\"Missing values:\\n\", df.isnull().sum())"
   ]
  },
  {
   "cell_type": "code",
   "execution_count": null,
   "id": "02fcb13e",
   "metadata": {},
   "outputs": [
    {
     "name": "stdout",
     "output_type": "stream",
     "text": [
      "\n",
      "Data types:\n",
      " sepal length (cm)    float64\n",
      "sepal width (cm)     float64\n",
      "petal length (cm)    float64\n",
      "petal width (cm)     float64\n",
      "target                 int64\n",
      "target_name           object\n",
      "dtype: object\n"
     ]
    }
   ],
   "source": [
    "#  Check data types\n",
    "print(\"\\nData types:\\n\", df.dtypes)"
   ]
  },
  {
   "cell_type": "code",
   "execution_count": null,
   "id": "c7936a68",
   "metadata": {},
   "outputs": [],
   "source": [
    "# Drop target_name (since model needs numerical target only)\n",
    "df = df.drop(columns=[\"target_name\"])"
   ]
  },
  {
   "cell_type": "code",
   "execution_count": 7,
   "id": "b5b8c051",
   "metadata": {},
   "outputs": [],
   "source": [
    "# Feature scaling (optional for tree-based models, but good for LogisticRegression)\n",
    "from sklearn.preprocessing import StandardScaler\n",
    "scaler = StandardScaler()\n",
    "X = df.drop(columns=[\"target\"])  # features\n",
    "y = df[\"target\"]                 # target\n",
    "\n",
    "X_scaled = scaler.fit_transform(X)"
   ]
  },
  {
   "cell_type": "code",
   "execution_count": 8,
   "id": "62c0d6ec",
   "metadata": {},
   "outputs": [],
   "source": [
    "# Save preprocessed data\n",
    "import numpy as np"
   ]
  },
  {
   "cell_type": "code",
   "execution_count": 9,
   "id": "ff229bbf",
   "metadata": {},
   "outputs": [],
   "source": [
    "# Combine scaled X and y into one DataFrame\n",
    "X_scaled_df = pd.DataFrame(X_scaled, columns=X.columns)\n",
    "X_scaled_df[\"target\"] = y"
   ]
  },
  {
   "cell_type": "code",
   "execution_count": 10,
   "id": "fbb7d25a",
   "metadata": {},
   "outputs": [
    {
     "name": "stdout",
     "output_type": "stream",
     "text": [
      "\n",
      "✅ Preprocessed data saved to 'iris_preprocessed.csv'\n"
     ]
    }
   ],
   "source": [
    "# Save the preprocessed data\n",
    "X_scaled_df.to_csv(\"../data/iris_preprocessed.csv\", index=False)\n",
    "print(\"\\n✅ Preprocessed data saved to 'iris_preprocessed.csv'\")"
   ]
  },
  {
   "cell_type": "code",
   "execution_count": null,
   "id": "701d7989",
   "metadata": {},
   "outputs": [],
   "source": []
  }
 ],
 "metadata": {
  "kernelspec": {
   "display_name": "base",
   "language": "python",
   "name": "python3"
  },
  "language_info": {
   "codemirror_mode": {
    "name": "ipython",
    "version": 3
   },
   "file_extension": ".py",
   "mimetype": "text/x-python",
   "name": "python",
   "nbconvert_exporter": "python",
   "pygments_lexer": "ipython3",
   "version": "3.12.4"
  }
 },
 "nbformat": 4,
 "nbformat_minor": 5
}
