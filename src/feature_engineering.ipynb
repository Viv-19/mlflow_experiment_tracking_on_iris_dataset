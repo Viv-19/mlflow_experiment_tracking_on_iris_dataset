{
 "cells": [
  {
   "cell_type": "code",
   "execution_count": null,
   "id": "3721d283",
   "metadata": {},
   "outputs": [],
   "source": [
    "# Import libraries\n",
    "import pandas as pd\n",
    "import os"
   ]
  },
  {
   "cell_type": "code",
   "execution_count": null,
   "id": "cca14abf",
   "metadata": {},
   "outputs": [],
   "source": [
    "# Load preprocessed data\n",
    "data_path = \"../data/iris_preprocessed.csv\"\n",
    "if os.path.exists(data_path):\n",
    "    df = pd.read_csv(data_path)\n",
    "else:\n",
    "    raise FileNotFoundError(\"Preprocessed file not found. Run data_preprocessing.ipynb first.\")"
   ]
  },
  {
   "cell_type": "code",
   "execution_count": null,
   "id": "8c6a6951",
   "metadata": {},
   "outputs": [],
   "source": [
    "# Create interaction feature - Petal area (length * width)\n",
    "df[\"petal_area\"] = df[\"petal length (cm)\"] * df[\"petal width (cm)\"]"
   ]
  },
  {
   "cell_type": "code",
   "execution_count": null,
   "id": "4f68b532",
   "metadata": {},
   "outputs": [],
   "source": [
    "# Create binary feature - is_large_sepal\n",
    "df[\"is_large_sepal\"] = (df[\"sepal length (cm)\"] > df[\"sepal length (cm)\"].mean()).astype(int)"
   ]
  },
  {
   "cell_type": "code",
   "execution_count": 5,
   "id": "e489f794",
   "metadata": {},
   "outputs": [
    {
     "name": "stdout",
     "output_type": "stream",
     "text": [
      "   sepal length (cm)  sepal width (cm)  petal length (cm)  petal width (cm)  \\\n",
      "0          -0.900681          1.019004          -1.340227         -1.315444   \n",
      "1          -1.143017         -0.131979          -1.340227         -1.315444   \n",
      "2          -1.385353          0.328414          -1.397064         -1.315444   \n",
      "3          -1.506521          0.098217          -1.283389         -1.315444   \n",
      "4          -1.021849          1.249201          -1.340227         -1.315444   \n",
      "\n",
      "   target  petal_area  is_large_sepal  \n",
      "0       0    1.762993               0  \n",
      "1       0    1.762993               0  \n",
      "2       0    1.837760               0  \n",
      "3       0    1.688227               0  \n",
      "4       0    1.762993               0  \n"
     ]
    }
   ],
   "source": [
    "# Show sample after feature engineering\n",
    "print(df.head())"
   ]
  },
  {
   "cell_type": "code",
   "execution_count": 6,
   "id": "55a0968b",
   "metadata": {},
   "outputs": [
    {
     "name": "stdout",
     "output_type": "stream",
     "text": [
      "\n",
      "✅ Feature engineered data saved to 'iris_engineered.csv'\n"
     ]
    }
   ],
   "source": [
    "# Step 6: Save engineered features\n",
    "df.to_csv(\"../data/iris_engineered.csv\", index=False)\n",
    "print(\"\\n✅ Feature engineered data saved to 'iris_engineered.csv'\")"
   ]
  },
  {
   "cell_type": "code",
   "execution_count": null,
   "id": "7c6ad664",
   "metadata": {},
   "outputs": [],
   "source": []
  }
 ],
 "metadata": {
  "kernelspec": {
   "display_name": "base",
   "language": "python",
   "name": "python3"
  },
  "language_info": {
   "codemirror_mode": {
    "name": "ipython",
    "version": 3
   },
   "file_extension": ".py",
   "mimetype": "text/x-python",
   "name": "python",
   "nbconvert_exporter": "python",
   "pygments_lexer": "ipython3",
   "version": "3.12.4"
  }
 },
 "nbformat": 4,
 "nbformat_minor": 5
}
